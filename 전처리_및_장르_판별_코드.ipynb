{
  "nbformat": 4,
  "nbformat_minor": 0,
  "metadata": {
    "colab": {
      "name": "전처리 및 장르 판별 코드.ipynb",
      "provenance": [],
      "collapsed_sections": []
    },
    "kernelspec": {
      "display_name": "Python 3",
      "name": "python3"
    },
    "language_info": {
      "name": "python"
    }
  },
  "cells": [
    {
      "cell_type": "code",
      "metadata": {
        "id": "8Xqw1fHf-AgV"
      },
      "source": [
        "!apt-get update\n",
        "!apt-get install g++ openjdk-8-jdk\n",
        "!pip install konlpy JPype1-py3\n",
        "!bash <(curl -s https://raw.githubusercontent.com/konlpy/konlpy/master/scripts/mecab.sh)\n",
        "!pip install sklearn\n",
        "import pandas as pd\n",
        "from google.colab import drive\n",
        "from konlpy.tag import Mecab\n",
        "import warnings\n",
        "drive.mount('/content/gdrive')"
      ],
      "execution_count": null,
      "outputs": []
    },
    {
      "cell_type": "code",
      "metadata": {
        "id": "TJCnxa8H-A_C"
      },
      "source": [
        "df_train = pd.read_excel(\"/content/gdrive/My Drive/Colab Notebooks/NLP텍스트분석/멜론 장르 종합 100 라벨링.xlsx\", keep_default_na =False)\n"
      ],
      "execution_count": null,
      "outputs": []
    },
    {
      "cell_type": "code",
      "metadata": {
        "id": "htdgfSVKJqfG"
      },
      "source": [
        "tokenizer = Mecab()\n",
        "from sklearn.feature_extraction.text import TfidfVectorizer\n",
        "### 필요없는 텍스트 지움(영문)\n",
        "def mecab_tokenizer(text):\n",
        "  return tokenizer.morphs(text)"
      ],
      "execution_count": null,
      "outputs": []
    },
    {
      "cell_type": "code",
      "metadata": {
        "id": "NvQ91243j2Kz"
      },
      "source": [
        "tfidf =TfidfVectorizer(tokenizer=mecab_tokenizer,\n",
        "                      ngram_range=(1,2), min_df=3, max_df=0.9)\n",
        "\n"
      ],
      "execution_count": null,
      "outputs": []
    },
    {
      "cell_type": "code",
      "metadata": {
        "id": "zYT7eFJ3HVgv"
      },
      "source": [
        "tfidf.fit(df_train[\"가사\"].apply(lambda x : x.replace(\"사랑\", \"\").replace('우리','').replace('지금','').replace('그대','')))\n",
        "# 장르 판단에 영향을 주는 단어 삭제"
      ],
      "execution_count": null,
      "outputs": []
    },
    {
      "cell_type": "code",
      "metadata": {
        "id": "_kf1QOi2OK0L"
      },
      "source": [
        "df_train_tfidf = tfidf.transform(df_train[\"가사\"])\n",
        "df_train_tfidf"
      ],
      "execution_count": null,
      "outputs": []
    },
    {
      "cell_type": "code",
      "metadata": {
        "id": "-taN70lfUVaC"
      },
      "source": [
        "from sklearn.svm import LinearSVC\n",
        "svm = LinearSVC()\n",
        "svm.fit(df_train_tfidf, df_train.label)\n",
        "## 벡터화\n",
        "svm.score(df_train_tfidf, df_train.label)"
      ],
      "execution_count": null,
      "outputs": []
    },
    {
      "cell_type": "code",
      "metadata": {
        "id": "a31Rvitrvvwi"
      },
      "source": [
        "##########노래 전체 변환#######\n",
        "\n",
        "from pathlib import Path\n",
        "txt = Path('/content/gdrive/My Drive/Colab Notebooks/NLP텍스트분석/눈물비_홍진영_트로트.txt').read_text()\n",
        "txt = txt.replace('\\n', '')\n",
        "df_test2 = [''.join(txt)]\n",
        "df_test2"
      ],
      "execution_count": null,
      "outputs": []
    },
    {
      "cell_type": "code",
      "metadata": {
        "id": "d9bIQqEIwUt_"
      },
      "source": [
        "# 장르 예측\n",
        "\n",
        "''' \n",
        " 라벨링 번호\n",
        " 발라드:0\n",
        " 댄스:1\n",
        " 랩힙합:2\n",
        " 알앤비:3\n",
        " 인디:4\n",
        " 트로트:5\n",
        "'''\n",
        "q = tfidf.transform(df_test2)\n",
        "qpd = svm.predict(q)\n",
        "qpd"
      ],
      "execution_count": null,
      "outputs": []
    }
  ]
}