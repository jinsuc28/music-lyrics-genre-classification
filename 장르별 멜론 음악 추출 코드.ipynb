{
 "cells": [
  {
   "cell_type": "code",
   "execution_count": 1,
   "id": "a749bba1",
   "metadata": {},
   "outputs": [],
   "source": [
    "from bs4 import BeautifulSoup\n",
    "from selenium import webdriver\n",
    "import re\n",
    "import pandas as pd"
   ]
  },
  {
   "cell_type": "code",
   "execution_count": 4,
   "id": "ea822ec1",
   "metadata": {},
   "outputs": [],
   "source": [
    "driver = webdriver.Chrome('C:/Users/admin/Documents/practice/chromedriver')\n",
    "driver.get(\"https://www.melon.com/genre/song_list.htm?gnrCode=GN0400#params%5BgnrCode%5D=GN0400&params%5BdtlGnrCode%5D=&params%5BorderBy%5D=NEW&params%5BsteadyYn%5D=N&po=pageObj&startIndex=101\")"
   ]
  },
  {
   "cell_type": "code",
   "execution_count": 1,
   "id": "a30d3f64",
   "metadata": {
    "scrolled": true
   },
   "outputs": [],
   "source": [
    "title=driver.find_elements_by_class_name('ellipsis.rank01')\n",
    "\n",
    "title2=[]\n",
    "for i in title:\n",
    "    title2.append(i.text)\n",
    "\n",
    "# del title2[0]\n",
    "del title2[100:]\n",
    "\n",
    "singer=driver.find_elements_by_class_name('ellipsis.rank02')\n",
    "singer2=[]\n",
    "\n",
    "\n",
    "for i in singer:\n",
    "    singer2.append(i.text)\n",
    "\n",
    "\n",
    "# del singer2[0]\n",
    "del singer2[100:]\n",
    "\n",
    "\n",
    "songTagList = driver.find_elements_by_class_name('input_check')\n",
    "number=[]\n",
    "for i in songTagList:\n",
    "    number.append(i.get_attribute('value'))\n",
    "    \n",
    "del number[0]\n",
    "del number[100:]\n",
    "\n",
    "\n",
    "LYRIC=[]\n",
    "for i in number:\n",
    "    driver.get(\"https://www.melon.com/song/detail.htm?songId=\" + i)\n",
    "    lyric=driver.find_element_by_class_name(\"lyric\")\n",
    "    LYRIC.append(lyric.text)"
   ]
  },
  {
   "cell_type": "code",
   "execution_count": null,
   "id": "2236d916",
   "metadata": {
    "scrolled": true
   },
   "outputs": [],
   "source": [
    "# songTagList"
   ]
  },
  {
   "cell_type": "code",
   "execution_count": 7,
   "id": "52cbd6ca",
   "metadata": {
    "scrolled": true
   },
   "outputs": [],
   "source": [
    "# number"
   ]
  },
  {
   "cell_type": "code",
   "execution_count": 8,
   "id": "77157eba",
   "metadata": {},
   "outputs": [
    {
     "data": {
      "text/plain": [
       "0"
      ]
     },
     "execution_count": 8,
     "metadata": {},
     "output_type": "execute_result"
    }
   ],
   "source": [
    "len(title2)"
   ]
  },
  {
   "cell_type": "code",
   "execution_count": 9,
   "id": "4f4f0d3a",
   "metadata": {},
   "outputs": [
    {
     "data": {
      "text/plain": [
       "0"
      ]
     },
     "execution_count": 9,
     "metadata": {},
     "output_type": "execute_result"
    }
   ],
   "source": [
    "len(singer2)"
   ]
  },
  {
   "cell_type": "code",
   "execution_count": 10,
   "id": "ba4ca761",
   "metadata": {},
   "outputs": [
    {
     "data": {
      "text/plain": [
       "0"
      ]
     },
     "execution_count": 10,
     "metadata": {},
     "output_type": "execute_result"
    }
   ],
   "source": [
    "len(LYRIC)"
   ]
  },
  {
   "cell_type": "code",
   "execution_count": 11,
   "id": "b84b4695",
   "metadata": {},
   "outputs": [
    {
     "name": "stdout",
     "output_type": "stream",
     "text": [
      "<class 'pandas.core.frame.DataFrame'>\n",
      "RangeIndex: 50 entries, 0 to 49\n",
      "Data columns (total 3 columns):\n",
      " #   Column  Non-Null Count  Dtype \n",
      "---  ------  --------------  ----- \n",
      " 0   제목      50 non-null     object\n",
      " 1   가수      50 non-null     object\n",
      " 2   가사      50 non-null     object\n",
      "dtypes: object(3)\n",
      "memory usage: 1.3+ KB\n"
     ]
    }
   ],
   "source": [
    "df.info()"
   ]
  },
  {
   "cell_type": "code",
   "execution_count": 9,
   "id": "73547349",
   "metadata": {
    "scrolled": true
   },
   "outputs": [],
   "source": [
    "df=pd.DataFrame({\"제목\":title2,\"가수\":singer2,\"가사\":LYRIC})"
   ]
  },
  {
   "cell_type": "code",
   "execution_count": 114,
   "id": "748edad9",
   "metadata": {},
   "outputs": [],
   "source": [
    "df.to_excel(\"멜론 test 데이터2.xlsx\",  encoding='utf-8')"
   ]
  },
  {
   "cell_type": "code",
   "execution_count": null,
   "id": "dadc39b5",
   "metadata": {},
   "outputs": [],
   "source": []
  },
  {
   "cell_type": "code",
   "execution_count": null,
   "id": "566a22ac",
   "metadata": {},
   "outputs": [],
   "source": []
  }
 ],
 "metadata": {
  "kernelspec": {
   "display_name": "Python 3",
   "language": "python",
   "name": "python3"
  },
  "language_info": {
   "codemirror_mode": {
    "name": "ipython",
    "version": 3
   },
   "file_extension": ".py",
   "mimetype": "text/x-python",
   "name": "python",
   "nbconvert_exporter": "python",
   "pygments_lexer": "ipython3",
   "version": "3.9.0"
  }
 },
 "nbformat": 4,
 "nbformat_minor": 5
}
